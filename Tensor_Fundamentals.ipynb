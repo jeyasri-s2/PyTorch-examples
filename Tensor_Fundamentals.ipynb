{
 "cells": [
  {
   "cell_type": "markdown",
   "metadata": {},
   "source": [
    "# Verifying torch installation\n",
    "\n",
    "* **Command** `conda install pytorch torchvision torchaudio`\n",
    "\n",
    "* **Note:** Works only with python version less than 3.11"
   ]
  },
  {
   "cell_type": "code",
   "execution_count": 1,
   "metadata": {},
   "outputs": [
    {
     "name": "stdout",
     "output_type": "stream",
     "text": [
      "2.5.1\n"
     ]
    }
   ],
   "source": [
    "import torch\n",
    "print(torch.__version__)"
   ]
  },
  {
   "cell_type": "code",
   "execution_count": 3,
   "metadata": {},
   "outputs": [
    {
     "data": {
      "text/plain": [
       "(tensor([1., 1., 1.]), tensor([1., 1., 1., 1.]))"
      ]
     },
     "execution_count": 3,
     "metadata": {},
     "output_type": "execute_result"
    }
   ],
   "source": [
    "torch.ones(3), torch.ones(4)"
   ]
  },
  {
   "cell_type": "code",
   "execution_count": 4,
   "metadata": {},
   "outputs": [
    {
     "data": {
      "text/plain": [
       "tensor([0., 0., 0., 0., 0., 0.])"
      ]
     },
     "execution_count": 4,
     "metadata": {},
     "output_type": "execute_result"
    }
   ],
   "source": [
    "points = torch.zeros(6)\n",
    "points"
   ]
  },
  {
   "cell_type": "code",
   "execution_count": 7,
   "metadata": {},
   "outputs": [
    {
     "data": {
      "text/plain": [
       "tensor([1., 9., 6., 3., 7., 2.])"
      ]
     },
     "execution_count": 7,
     "metadata": {},
     "output_type": "execute_result"
    }
   ],
   "source": [
    "\n",
    "points[0] = 1.0\n",
    "points[1] = 9.0\n",
    "points[2] = 6.0\n",
    "points[3] = 3.0\n",
    "points[4] = 7.0\n",
    "points[5] = 2.0\n",
    "\n",
    "points"
   ]
  },
  {
   "cell_type": "code",
   "execution_count": 8,
   "metadata": {},
   "outputs": [
    {
     "data": {
      "text/plain": [
       "(1.0, 9.0)"
      ]
     },
     "execution_count": 8,
     "metadata": {},
     "output_type": "execute_result"
    }
   ],
   "source": [
    "float(points[0]), float(points[1])\n"
   ]
  },
  {
   "cell_type": "code",
   "execution_count": 11,
   "metadata": {},
   "outputs": [
    {
     "name": "stdout",
     "output_type": "stream",
     "text": [
      "tensor([[1., 4.],\n",
      "        [2., 1.],\n",
      "        [3., 5.]])\n",
      "Shape:  torch.Size([3, 2])\n"
     ]
    },
    {
     "data": {
      "text/plain": [
       "tensor([[1., 4.],\n",
       "        [2., 1.],\n",
       "        [3., 5.]])"
      ]
     },
     "execution_count": 11,
     "metadata": {},
     "output_type": "execute_result"
    }
   ],
   "source": [
    "points = torch.tensor([[1.0, 4.0], [2.0, 1.0], [3.0, 5.0]])\n",
    "print(points)\n",
    "print(\"Shape: \",points.shape)\n",
    "points\n"
   ]
  },
  {
   "cell_type": "code",
   "execution_count": 12,
   "metadata": {},
   "outputs": [
    {
     "data": {
      "text/plain": [
       "tensor(4.)"
      ]
     },
     "execution_count": 12,
     "metadata": {},
     "output_type": "execute_result"
    }
   ],
   "source": [
    "points = torch.FloatTensor([[1.0, 4.0], [2.0, 1.0], [3.0, 5.0]])\n",
    "points[0, 1]"
   ]
  },
  {
   "cell_type": "code",
   "execution_count": 13,
   "metadata": {},
   "outputs": [
    {
     "name": "stderr",
     "output_type": "stream",
     "text": [
      "/var/folders/ml/rd5kt59x51z3wbypqjnb36hr0000gn/T/ipykernel_20939/1455166040.py:2: UserWarning: TypedStorage is deprecated. It will be removed in the future and UntypedStorage will be the only storage class. This should only matter to you if you are using storages directly.  To access UntypedStorage directly, use tensor.untyped_storage() instead of tensor.storage()\n",
      "  points.storage()\n"
     ]
    },
    {
     "data": {
      "text/plain": [
       " 1.0\n",
       " 4.0\n",
       " 2.0\n",
       " 1.0\n",
       " 3.0\n",
       " 5.0\n",
       "[torch.storage.TypedStorage(dtype=torch.float32, device=cpu) of size 6]"
      ]
     },
     "execution_count": 13,
     "metadata": {},
     "output_type": "execute_result"
    }
   ],
   "source": [
    "points = torch.tensor([[1.0, 4.0], [2.0, 1.0], [3.0, 5.0]])\n",
    "points.storage()"
   ]
  },
  {
   "cell_type": "code",
   "execution_count": 17,
   "metadata": {},
   "outputs": [
    {
     "data": {
      "text/plain": [
       "(2, 1)"
      ]
     },
     "execution_count": 17,
     "metadata": {},
     "output_type": "execute_result"
    }
   ],
   "source": [
    "points.stride()\n",
    "\n",
    "# stride is a tuple indicating the number of elements in the storage that have to be \n",
    "# skipped when the index is increased by 1 in each dimension"
   ]
  },
  {
   "cell_type": "code",
   "execution_count": 21,
   "metadata": {},
   "outputs": [
    {
     "name": "stdout",
     "output_type": "stream",
     "text": [
      "tensor([[1., 1., 1.],\n",
      "        [1., 1., 1.],\n",
      "        [1., 1., 1.],\n",
      "        [1., 1., 1.],\n",
      "        [1., 1., 1.]])\n"
     ]
    },
    {
     "data": {
      "text/plain": [
       "(3, 1)"
      ]
     },
     "execution_count": 21,
     "metadata": {},
     "output_type": "execute_result"
    }
   ],
   "source": [
    "zero_points = torch.ones((5,3))\n",
    "print(zero_points)\n",
    "zero_points.stride()"
   ]
  },
  {
   "cell_type": "markdown",
   "metadata": {},
   "source": [
    "# Comparing clone process First cell , modifying without cloning"
   ]
  },
  {
   "cell_type": "markdown",
   "metadata": {},
   "source": [
    "points = torch.tensor([[1.0, 4.0], [2.0, 1.0], [3.0, 5.0]])\n",
    "second_point = points[1]\n",
    "second_point[0] = 10.0\n",
    "print(\"second_point \",second_point)\n",
    "points"
   ]
  },
  {
   "cell_type": "code",
   "execution_count": 24,
   "metadata": {},
   "outputs": [
    {
     "data": {
      "text/plain": [
       "tensor([[1., 4.],\n",
       "        [2., 1.],\n",
       "        [3., 5.]])"
      ]
     },
     "execution_count": 24,
     "metadata": {},
     "output_type": "execute_result"
    }
   ],
   "source": [
    "points = torch.tensor([[1.0, 4.0], [2.0, 1.0], [3.0, 5.0]])\n",
    "second_point = points[1].clone()\n",
    "second_point[0] = 10.0\n",
    "points"
   ]
  },
  {
   "cell_type": "markdown",
   "metadata": {},
   "source": [
    "# Transposing"
   ]
  },
  {
   "cell_type": "code",
   "execution_count": 26,
   "metadata": {},
   "outputs": [
    {
     "data": {
      "text/plain": [
       "tensor([[1., 4.],\n",
       "        [2., 1.],\n",
       "        [3., 5.]])"
      ]
     },
     "execution_count": 26,
     "metadata": {},
     "output_type": "execute_result"
    }
   ],
   "source": [
    "points = torch.tensor([[1.0, 4.0], [2.0, 1.0], [3.0, 5.0]])\n",
    "points"
   ]
  },
  {
   "cell_type": "code",
   "execution_count": 29,
   "metadata": {},
   "outputs": [
    {
     "name": "stdout",
     "output_type": "stream",
     "text": [
      "tensor([[1., 2., 3.],\n",
      "        [4., 1., 5.]])\n"
     ]
    },
    {
     "data": {
      "text/plain": [
       "tensor([[1., 2., 3.],\n",
       "        [4., 1., 5.]])"
      ]
     },
     "execution_count": 29,
     "metadata": {},
     "output_type": "execute_result"
    }
   ],
   "source": [
    "points_t = points.t()\n",
    "print(points_t)\n"
   ]
  },
  {
   "cell_type": "code",
   "execution_count": 32,
   "metadata": {},
   "outputs": [
    {
     "data": {
      "text/plain": [
       "False"
      ]
     },
     "execution_count": 32,
     "metadata": {},
     "output_type": "execute_result"
    }
   ],
   "source": [
    "id(points.storage()) == id(points_t.storage())"
   ]
  },
  {
   "cell_type": "code",
   "execution_count": 34,
   "metadata": {},
   "outputs": [
    {
     "name": "stdout",
     "output_type": "stream",
     "text": [
      "tensor([[1., 2., 3.],\n",
      "        [4., 1., 5.]])\n"
     ]
    },
    {
     "data": {
      "text/plain": [
       "True"
      ]
     },
     "execution_count": 34,
     "metadata": {},
     "output_type": "execute_result"
    }
   ],
   "source": [
    "points_t2 = points_t.clone()\n",
    "print(points_t2)\n",
    "id(points_t.storage()) == id(points_t2.storage())"
   ]
  },
  {
   "cell_type": "code",
   "execution_count": 41,
   "metadata": {},
   "outputs": [
    {
     "name": "stdout",
     "output_type": "stream",
     "text": [
      "torch.Size([3, 4, 5])\n",
      "stride:  (20, 5, 1)\n"
     ]
    },
    {
     "data": {
      "text/plain": [
       "tensor([[[1., 1., 1., 1., 1.],\n",
       "         [1., 1., 1., 1., 1.],\n",
       "         [1., 1., 1., 1., 1.],\n",
       "         [1., 1., 1., 1., 1.]],\n",
       "\n",
       "        [[1., 1., 1., 1., 1.],\n",
       "         [1., 1., 1., 1., 1.],\n",
       "         [1., 1., 1., 1., 1.],\n",
       "         [1., 1., 1., 1., 1.]],\n",
       "\n",
       "        [[1., 1., 1., 1., 1.],\n",
       "         [1., 1., 1., 1., 1.],\n",
       "         [1., 1., 1., 1., 1.],\n",
       "         [1., 1., 1., 1., 1.]]])"
      ]
     },
     "execution_count": 41,
     "metadata": {},
     "output_type": "execute_result"
    }
   ],
   "source": [
    "some_tensor = torch.ones(3, 4, 5)\n",
    "print(some_tensor.shape)\n",
    "print(\"stride: \",some_tensor.stride())\n",
    "some_tensor"
   ]
  },
  {
   "cell_type": "code",
   "execution_count": 42,
   "metadata": {},
   "outputs": [
    {
     "name": "stdout",
     "output_type": "stream",
     "text": [
      "torch.Size([5, 4, 3])\n",
      "stride:  (1, 5, 20)\n",
      "tensor([[[1., 1., 1.],\n",
      "         [1., 1., 1.],\n",
      "         [1., 1., 1.],\n",
      "         [1., 1., 1.]],\n",
      "\n",
      "        [[1., 1., 1.],\n",
      "         [1., 1., 1.],\n",
      "         [1., 1., 1.],\n",
      "         [1., 1., 1.]],\n",
      "\n",
      "        [[1., 1., 1.],\n",
      "         [1., 1., 1.],\n",
      "         [1., 1., 1.],\n",
      "         [1., 1., 1.]],\n",
      "\n",
      "        [[1., 1., 1.],\n",
      "         [1., 1., 1.],\n",
      "         [1., 1., 1.],\n",
      "         [1., 1., 1.]],\n",
      "\n",
      "        [[1., 1., 1.],\n",
      "         [1., 1., 1.],\n",
      "         [1., 1., 1.],\n",
      "         [1., 1., 1.]]])\n"
     ]
    }
   ],
   "source": [
    "some_tensor_t = some_tensor.transpose(0, 2)\n",
    "print(some_tensor_t.shape)\n",
    "print(\"stride: \",some_tensor_t.stride())\n",
    "\n",
    "print(some_tensor_t)"
   ]
  },
  {
   "cell_type": "markdown",
   "metadata": {},
   "source": [
    "# Definition :\n",
    "\n",
    "A tensor whose values are laid out in the storage starting from the rightmost dimension\n",
    "onward (moving along rows for a 2D tensor, for example) is defined as being contiguous.\n",
    "Contiguous tensors are convenient because you can visit them efficiently and\n",
    "in order without jumping around in the storage."
   ]
  },
  {
   "cell_type": "code",
   "execution_count": 45,
   "metadata": {},
   "outputs": [
    {
     "name": "stdout",
     "output_type": "stream",
     "text": [
      "True\n",
      "False\n"
     ]
    }
   ],
   "source": [
    "print(some_tensor.is_contiguous())\n",
    "print(some_tensor_t.is_contiguous())"
   ]
  },
  {
   "cell_type": "markdown",
   "metadata": {},
   "source": [
    "# Here’s a list of the possible values for the dtype argument:\n",
    "* 􀂃 torch.float32 or torch.float—32-bit floating-point\n",
    "* 􀂃 torch.float64 or torch.double—64-bit, double-precision floating-point\n",
    "* 􀂃 torch.float16 or torch.half—16-bit, half-precision floating-point\n",
    "* 􀂃 torch.int8—Signed 8-bit integers\n",
    "* 􀂃 torch.uint8—Unsigned 8-bit integers\n",
    "* 􀂃 torch.int16 or torch.short—Signed 16-bit integers\n",
    "* 􀂃 torch.int32 or torch.int—Signed 32-bit integers\n",
    "* 􀂃 torch.int64 or torch.long—Signed 64-bit integers"
   ]
  },
  {
   "cell_type": "code",
   "execution_count": 48,
   "metadata": {},
   "outputs": [
    {
     "name": "stdout",
     "output_type": "stream",
     "text": [
      "tensor([[1., 1.],\n",
      "        [1., 1.],\n",
      "        [1., 1.],\n",
      "        [1., 1.],\n",
      "        [1., 1.],\n",
      "        [1., 1.],\n",
      "        [1., 1.],\n",
      "        [1., 1.],\n",
      "        [1., 1.],\n",
      "        [1., 1.]], dtype=torch.float64)\n",
      "tensor([[1, 2],\n",
      "        [3, 4]], dtype=torch.int16)\n",
      "short_points dtype:  torch.int16\n"
     ]
    }
   ],
   "source": [
    "double_points = torch.ones(10, 2, dtype=torch.double)\n",
    "short_points = torch.tensor([[1, 2], [3, 4]], dtype=torch.short)\n",
    "\n",
    "print(double_points)\n",
    "print(short_points)\n",
    "print('short_points dtype: ',short_points.dtype)"
   ]
  },
  {
   "cell_type": "code",
   "execution_count": 51,
   "metadata": {},
   "outputs": [
    {
     "name": "stdout",
     "output_type": "stream",
     "text": [
      "--- Method one ---\n",
      "tensor([[0., 0.],\n",
      "        [0., 0.],\n",
      "        [0., 0.],\n",
      "        [0., 0.],\n",
      "        [0., 0.],\n",
      "        [0., 0.],\n",
      "        [0., 0.],\n",
      "        [0., 0.],\n",
      "        [0., 0.],\n",
      "        [0., 0.]], dtype=torch.float64)\n",
      "tensor([[1, 1],\n",
      "        [1, 1],\n",
      "        [1, 1],\n",
      "        [1, 1],\n",
      "        [1, 1],\n",
      "        [1, 1],\n",
      "        [1, 1],\n",
      "        [1, 1],\n",
      "        [1, 1],\n",
      "        [1, 1]], dtype=torch.int16)\n",
      "--- Method two ---\n",
      "tensor([[0., 0.],\n",
      "        [0., 0.],\n",
      "        [0., 0.],\n",
      "        [0., 0.],\n",
      "        [0., 0.],\n",
      "        [0., 0.],\n",
      "        [0., 0.],\n",
      "        [0., 0.],\n",
      "        [0., 0.],\n",
      "        [0., 0.]], dtype=torch.float64)\n",
      "tensor([[1, 1],\n",
      "        [1, 1],\n",
      "        [1, 1],\n",
      "        [1, 1],\n",
      "        [1, 1],\n",
      "        [1, 1],\n",
      "        [1, 1],\n",
      "        [1, 1],\n",
      "        [1, 1],\n",
      "        [1, 1]], dtype=torch.int16)\n"
     ]
    }
   ],
   "source": [
    "# Two ways to create tensors\n",
    "double_points = torch.zeros(10, 2).double()\n",
    "short_points = torch.ones(10, 2).short()\n",
    "print(\"--- Method one ---\")\n",
    "print(double_points)\n",
    "print(short_points)\n",
    "\n",
    "double_points = torch.zeros(10, 2).to(torch.double)\n",
    "short_points = torch.ones(10, 2).to(dtype=torch.short)\n",
    "print(\"--- Method two ---\")\n",
    "print(double_points)\n",
    "print(short_points)"
   ]
  },
  {
   "cell_type": "code",
   "execution_count": 53,
   "metadata": {},
   "outputs": [
    {
     "name": "stdout",
     "output_type": "stream",
     "text": [
      "tensor([[ 0.7148,  0.5760],\n",
      "        [-2.3966, -0.0519],\n",
      "        [ 0.3635, -0.6590],\n",
      "        [ 0.5055, -1.7763],\n",
      "        [ 0.1514, -0.0449],\n",
      "        [-0.7855, -0.0933],\n",
      "        [-1.2419, -1.6029],\n",
      "        [ 0.4202, -0.3481],\n",
      "        [-1.6817, -0.8045],\n",
      "        [ 1.1054, -0.8688]])\n"
     ]
    },
    {
     "data": {
      "text/plain": [
       "tensor([[ 0,  0],\n",
       "        [-2,  0],\n",
       "        [ 0,  0],\n",
       "        [ 0, -1],\n",
       "        [ 0,  0],\n",
       "        [ 0,  0],\n",
       "        [-1, -1],\n",
       "        [ 0,  0],\n",
       "        [-1,  0],\n",
       "        [ 1,  0]], dtype=torch.int16)"
      ]
     },
     "execution_count": 53,
     "metadata": {},
     "output_type": "execute_result"
    }
   ],
   "source": [
    "points = torch.randn(10, 2) # randn initializes the tensor elements to random numbers between 0 and 1.\n",
    "\n",
    "print(points)\n",
    "short_points = points.type(torch.short)\n",
    "short_points"
   ]
  },
  {
   "cell_type": "code",
   "execution_count": 54,
   "metadata": {},
   "outputs": [
    {
     "data": {
      "text/plain": [
       "tensor([[ 0.7148,  0.5760],\n",
       "        [-2.3966, -0.0519],\n",
       "        [ 0.3635, -0.6590],\n",
       "        [ 0.5055, -1.7763],\n",
       "        [ 0.1514, -0.0449],\n",
       "        [-0.7855, -0.0933],\n",
       "        [-1.2419, -1.6029],\n",
       "        [ 0.4202, -0.3481],\n",
       "        [-1.6817, -0.8045],\n",
       "        [ 1.1054, -0.8688]])"
      ]
     },
     "execution_count": 54,
     "metadata": {},
     "output_type": "execute_result"
    }
   ],
   "source": [
    "points[:] # All points"
   ]
  },
  {
   "cell_type": "code",
   "execution_count": 55,
   "metadata": {},
   "outputs": [
    {
     "data": {
      "text/plain": [
       "tensor([[-2.3966, -0.0519],\n",
       "        [ 0.3635, -0.6590],\n",
       "        [ 0.5055, -1.7763],\n",
       "        [ 0.1514, -0.0449],\n",
       "        [-0.7855, -0.0933],\n",
       "        [-1.2419, -1.6029],\n",
       "        [ 0.4202, -0.3481],\n",
       "        [-1.6817, -0.8045],\n",
       "        [ 1.1054, -0.8688]])"
      ]
     },
     "execution_count": 55,
     "metadata": {},
     "output_type": "execute_result"
    }
   ],
   "source": [
    "points[1:, :] # All points after first row"
   ]
  },
  {
   "cell_type": "code",
   "execution_count": 57,
   "metadata": {},
   "outputs": [
    {
     "data": {
      "text/plain": [
       "tensor([-0.6590, -1.7763, -0.0449, -0.0933, -1.6029, -0.3481, -0.8045, -0.8688])"
      ]
     },
     "execution_count": 57,
     "metadata": {},
     "output_type": "execute_result"
    }
   ],
   "source": [
    "points[2:, 1] # All column after second row"
   ]
  },
  {
   "cell_type": "code",
   "execution_count": 58,
   "metadata": {},
   "outputs": [
    {
     "data": {
      "text/plain": [
       "tensor([ 0.5055,  0.1514, -0.7855, -1.2419,  0.4202, -1.6817,  1.1054])"
      ]
     },
     "execution_count": 58,
     "metadata": {},
     "output_type": "execute_result"
    }
   ],
   "source": [
    "points[3:, 0] # All row after third row"
   ]
  },
  {
   "cell_type": "code",
   "execution_count": 60,
   "metadata": {},
   "outputs": [
    {
     "data": {
      "text/plain": [
       "array([[1., 1., 1., 1.],\n",
       "       [1., 1., 1., 1.],\n",
       "       [1., 1., 1., 1.]], dtype=float32)"
      ]
     },
     "execution_count": 60,
     "metadata": {},
     "output_type": "execute_result"
    }
   ],
   "source": [
    "points = torch.ones(3, 4)\n",
    "points_np = points.numpy()\n",
    "points_np\n",
    "\n",
    "#note: The returned array shares an underlying buffer with the tensor storage."
   ]
  },
  {
   "cell_type": "code",
   "execution_count": 62,
   "metadata": {},
   "outputs": [
    {
     "data": {
      "text/plain": [
       "True"
      ]
     },
     "execution_count": 62,
     "metadata": {},
     "output_type": "execute_result"
    }
   ],
   "source": [
    "points_bk = torch.from_numpy(points_np)\n",
    "id(points_bk.storage()) == id(points.storage())\n",
    "\n",
    "# Note: uses the same buffer-sharing strategy"
   ]
  },
  {
   "cell_type": "markdown",
   "metadata": {},
   "source": [
    "# Serializing Tensor"
   ]
  },
  {
   "cell_type": "code",
   "execution_count": 69,
   "metadata": {},
   "outputs": [
    {
     "name": "stdout",
     "output_type": "stream",
     "text": [
      "ourpoints.t\n"
     ]
    }
   ],
   "source": [
    "!ls data"
   ]
  },
  {
   "cell_type": "code",
   "execution_count": 72,
   "metadata": {},
   "outputs": [
    {
     "data": {
      "text/plain": [
       "tensor([[ 0.1468,  0.2638],\n",
       "        [ 0.7427,  1.9481],\n",
       "        [-1.5268,  0.1972],\n",
       "        [-0.9786,  0.0123],\n",
       "        [-0.3881, -1.4031],\n",
       "        [-0.8270, -2.5110],\n",
       "        [ 1.8079, -2.2073],\n",
       "        [ 1.9363,  0.0891],\n",
       "        [-1.1921, -0.8676],\n",
       "        [ 1.6561,  0.9856]])"
      ]
     },
     "execution_count": 72,
     "metadata": {},
     "output_type": "execute_result"
    }
   ],
   "source": [
    "points = torch.randn(10, 2) # randn initializes the tensor elements to random numbers between 0 and 1.\n",
    "points"
   ]
  },
  {
   "cell_type": "code",
   "execution_count": 73,
   "metadata": {},
   "outputs": [],
   "source": [
    "# first way\n",
    "\n",
    "torch.save(points, 'data/ourpoints.t')\n",
    "\n",
    "# second way\n",
    "\n",
    "with open('data/ourpoints.t', 'wb') as f:\n",
    "    torch.save(points, f)"
   ]
  },
  {
   "cell_type": "code",
   "execution_count": 77,
   "metadata": {},
   "outputs": [
    {
     "name": "stdout",
     "output_type": "stream",
     "text": [
      "tensor([[ 0.1468,  0.2638],\n",
      "        [ 0.7427,  1.9481],\n",
      "        [-1.5268,  0.1972],\n",
      "        [-0.9786,  0.0123],\n",
      "        [-0.3881, -1.4031],\n",
      "        [-0.8270, -2.5110],\n",
      "        [ 1.8079, -2.2073],\n",
      "        [ 1.9363,  0.0891],\n",
      "        [-1.1921, -0.8676],\n",
      "        [ 1.6561,  0.9856]])\n"
     ]
    },
    {
     "name": "stderr",
     "output_type": "stream",
     "text": [
      "/var/folders/ml/rd5kt59x51z3wbypqjnb36hr0000gn/T/ipykernel_20939/3269304.py:1: FutureWarning: You are using `torch.load` with `weights_only=False` (the current default value), which uses the default pickle module implicitly. It is possible to construct malicious pickle data which will execute arbitrary code during unpickling (See https://github.com/pytorch/pytorch/blob/main/SECURITY.md#untrusted-models for more details). In a future release, the default value for `weights_only` will be flipped to `True`. This limits the functions that could be executed during unpickling. Arbitrary objects will no longer be allowed to be loaded via this mode unless they are explicitly allowlisted by the user via `torch.serialization.add_safe_globals`. We recommend you start setting `weights_only=True` for any use case where you don't have full control of the loaded file. Please open an issue on GitHub for any issues related to this experimental feature.\n",
      "  points = torch.load('data/ourpoints.t')\n",
      "/var/folders/ml/rd5kt59x51z3wbypqjnb36hr0000gn/T/ipykernel_20939/3269304.py:7: FutureWarning: You are using `torch.load` with `weights_only=False` (the current default value), which uses the default pickle module implicitly. It is possible to construct malicious pickle data which will execute arbitrary code during unpickling (See https://github.com/pytorch/pytorch/blob/main/SECURITY.md#untrusted-models for more details). In a future release, the default value for `weights_only` will be flipped to `True`. This limits the functions that could be executed during unpickling. Arbitrary objects will no longer be allowed to be loaded via this mode unless they are explicitly allowlisted by the user via `torch.serialization.add_safe_globals`. We recommend you start setting `weights_only=True` for any use case where you don't have full control of the loaded file. Please open an issue on GitHub for any issues related to this experimental feature.\n",
      "  points = torch.load(f)\n"
     ]
    }
   ],
   "source": [
    "points = torch.load('data/ourpoints.t')\n",
    "print(points)\n",
    "\n",
    "#second way to read from file\n",
    "\n",
    "with open('data/ourpoints.t','rb') as f:\n",
    "    points = torch.load(f)\n",
    "\n",
    "\n",
    "# Note:  This technique allows you to save tensors quickly in case you only want to load them\n",
    "# with PyTorch, but the file format itself isn’t interoperable. You can’t read the tensor\n",
    "# with software other than PyTorch. Depending"
   ]
  },
  {
   "cell_type": "markdown",
   "metadata": {},
   "source": [
    "# Alternative way to save the tensors \n",
    "\n",
    "**HDF5** is a portable, widely supported format for representing serialized multidimensional\n",
    "arrays, organized in a nested key-value dictionary. Python supports HDF5\n",
    "through the h5py library7, which accepts and returns data under the form of NumPy\n",
    "arrays.\n",
    "\n",
    "`conda install h5py`\n"
   ]
  },
  {
   "cell_type": "code",
   "execution_count": 79,
   "metadata": {},
   "outputs": [],
   "source": [
    "import h5py\n",
    "f = h5py.File('data/ourpoints.hdf5', 'w')\n",
    "dset = f.create_dataset('coords', data=points.numpy())\n",
    "f.close()"
   ]
  },
  {
   "cell_type": "code",
   "execution_count": 83,
   "metadata": {},
   "outputs": [
    {
     "name": "stdout",
     "output_type": "stream",
     "text": [
      "tensor([[ 0.1468,  0.2638],\n",
      "        [ 0.7427,  1.9481],\n",
      "        [-1.5268,  0.1972],\n",
      "        [-0.9786,  0.0123],\n",
      "        [-0.3881, -1.4031],\n",
      "        [-0.8270, -2.5110],\n",
      "        [ 1.8079, -2.2073],\n",
      "        [ 1.9363,  0.0891],\n",
      "        [-1.1921, -0.8676],\n",
      "        [ 1.6561,  0.9856]])\n"
     ]
    }
   ],
   "source": [
    "f = h5py.File('data/ourpoints.hdf5', 'r')\n",
    "dset = f['coords']\n",
    "last_points = torch.from_numpy(dset[:])\n",
    "f.close()\n",
    "print(last_points)"
   ]
  },
  {
   "cell_type": "markdown",
   "metadata": {},
   "source": [
    "# Utilizing GPU"
   ]
  },
  {
   "cell_type": "code",
   "execution_count": null,
   "metadata": {},
   "outputs": [],
   "source": [
    "points_gpu = torch.tensor([[1.0, 4.0], [2.0, 1.0], [3.0, 4.0]], device='cuda')\n",
    "\n",
    "# second way\n",
    "\n",
    "\n",
    "points_gpu = points.to(device='cuda')\n",
    "points_gpu = points.to(device='cuda:0')"
   ]
  },
  {
   "cell_type": "code",
   "execution_count": null,
   "metadata": {},
   "outputs": [],
   "source": [
    "points = 2 * points # Operation performed in CPU\n",
    "points_gpu = 2 * points.to(device='cuda') # Operation performed in GPU"
   ]
  },
  {
   "cell_type": "code",
   "execution_count": null,
   "metadata": {},
   "outputs": [],
   "source": [
    "# Move tensor back to CPU\n",
    "\n",
    "points_cpu = points_gpu.to(device='cpu')\n",
    "\n",
    "points_gpu = points.cuda() # defaults to cuda id : 0\n",
    "points_gpu = points.cuda(0)\n",
    "points_cpu = points_gpu.cpu()"
   ]
  }
 ],
 "metadata": {
  "kernelspec": {
   "display_name": "Python 3 (ipykernel)",
   "language": "python",
   "name": "python3"
  },
  "language_info": {
   "codemirror_mode": {
    "name": "ipython",
    "version": 3
   },
   "file_extension": ".py",
   "mimetype": "text/x-python",
   "name": "python",
   "nbconvert_exporter": "python",
   "pygments_lexer": "ipython3",
   "version": "3.10.16"
  }
 },
 "nbformat": 4,
 "nbformat_minor": 4
}
